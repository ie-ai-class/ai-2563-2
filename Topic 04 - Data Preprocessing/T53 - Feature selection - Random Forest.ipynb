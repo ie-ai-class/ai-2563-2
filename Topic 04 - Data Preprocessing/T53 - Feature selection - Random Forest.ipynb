{
 "cells": [
  {
   "cell_type": "markdown",
   "metadata": {},
   "source": [
    "# Feature selection - Feature Importance with Random Forest"
   ]
  },
  {
   "cell_type": "code",
   "execution_count": null,
   "metadata": {},
   "outputs": [],
   "source": [
    "import pandas as pd\n",
    "from sklearn.model_selection import train_test_split\n",
    "from sklearn.preprocessing import MinMaxScaler\n",
    "from sklearn.preprocessing import StandardScaler\n",
    "import matplotlib.pyplot as plt\n",
    "import numpy as np\n",
    "from sklearn.datasets import load_wine\n",
    "\n",
    "#Load data\n",
    "dataObj = load_wine()\n",
    "X = dataObj.data\n",
    "y = dataObj.target\n",
    "# Split\n",
    "X_train, X_test, y_train, y_test = train_test_split(X, y, test_size=0.3, random_state=0)\n",
    "\n",
    "# Standardization\n",
    "stdsc = StandardScaler()\n",
    "X_train_std = stdsc.fit_transform(X_train)\n",
    "X_test_std = stdsc.transform(X_test)"
   ]
  },
  {
   "cell_type": "code",
   "execution_count": null,
   "metadata": {},
   "outputs": [],
   "source": [
    "from sklearn.ensemble import RandomForestClassifier\n",
    "\n",
    "#Create objects \n",
    "forest = RandomForestClassifier(n_estimators=500, random_state=0, n_jobs=-1)\n",
    "\n",
    "#Training\n",
    "forest.fit(X_train, y_train)"
   ]
  },
  {
   "cell_type": "code",
   "execution_count": null,
   "metadata": {},
   "outputs": [],
   "source": [
    "# Extract importance measure\n",
    "importances = forest.feature_importances_\n",
    "\n",
    "# Column names\n",
    "cols = np.array(dataObj.feature_names)\n",
    "\n",
    "# Sort array from based on importances from large to small\n",
    "idxs = np.argsort(importances)[::-1]\n",
    "importances = importances[idxs]\n",
    "cols2 = cols[idxs]\n",
    "\n",
    "# Print results\n",
    "for count, (col, importance) in enumerate(zip(cols2, importances)):\n",
    "    print(f\"{count+1:2d}) {col:30s} \\t{importance:5.3f}\")"
   ]
  },
  {
   "cell_type": "code",
   "execution_count": null,
   "metadata": {},
   "outputs": [],
   "source": [
    "#Reverse the order for plotting\n",
    "cols2 = cols[::-1]\n",
    "importances2 = importances[::-1]\n",
    "\n",
    "#Plotting\n",
    "fig, ax = plt.subplots(figsize=(5,8))\n",
    "ax.barh(cols2,importances2,  color='lightblue')\n",
    "ax.set_title('Importances by features')\n",
    "plt.show()"
   ]
  },
  {
   "cell_type": "markdown",
   "metadata": {},
   "source": [
    "### Using Feature Selection object in SKL"
   ]
  },
  {
   "cell_type": "code",
   "execution_count": null,
   "metadata": {},
   "outputs": [],
   "source": [
    "from sklearn.feature_selection import SelectFromModel\n",
    "\n",
    "#Create object\n",
    "sfm = SelectFromModel(forest, threshold=0.1)\n",
    "\n",
    "# Training\n",
    "sfm.fit(X_train, y_train)\n",
    "\n",
    "# Columns chosen\n",
    "cols_bool = sfm.get_support()\n",
    "\n",
    "# Extract importances values\n",
    "importances = sfm.estimator_.feature_importances_\n",
    "\n",
    "# Select only chosen columns\n",
    "cols_reduced = cols[cols_bool]\n",
    "importances = importances[cols_bool]"
   ]
  },
  {
   "cell_type": "code",
   "execution_count": null,
   "metadata": {},
   "outputs": [],
   "source": [
    "# Sort array from based on importances from large to small\n",
    "idxs = np.argsort(importances)[::-1]\n",
    "importances = importances[idxs]\n",
    "cols_reduced = cols_reduced[idxs]\n",
    "\n",
    "# Print results\n",
    "for count, (col, importance) in enumerate(zip(cols_reduced, importances)):\n",
    "    print(f\"{count+1:2d}) {col:30s} \\t{importance:5.3f}\")"
   ]
  },
  {
   "cell_type": "code",
   "execution_count": null,
   "metadata": {},
   "outputs": [],
   "source": [
    "# Transform X\n",
    "X_selected = sfm.transform(X_train)\n",
    "\n",
    "print(X_selected.shape)"
   ]
  }
 ],
 "metadata": {
  "anaconda-cloud": {},
  "kernelspec": {
   "display_name": "Python 3",
   "language": "python",
   "name": "python3"
  },
  "language_info": {
   "codemirror_mode": {
    "name": "ipython",
    "version": 3
   },
   "file_extension": ".py",
   "mimetype": "text/x-python",
   "name": "python",
   "nbconvert_exporter": "python",
   "pygments_lexer": "ipython3",
   "version": "3.8.3-final"
  }
 },
 "nbformat": 4,
 "nbformat_minor": 1
}