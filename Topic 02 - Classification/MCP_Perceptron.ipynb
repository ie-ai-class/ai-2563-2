{
 "cells": [
  {
   "cell_type": "code",
   "execution_count": 1,
   "metadata": {},
   "outputs": [],
   "source": [
    "import numpy as np\n",
    "import pandas as pd\n",
    "import matplotlib.pyplot as plt"
   ]
  },
  {
   "cell_type": "markdown",
   "metadata": {},
   "source": [
    "# Defining functions"
   ]
  },
  {
   "cell_type": "code",
   "execution_count": 2,
   "metadata": {},
   "outputs": [],
   "source": [
    "def plot_decision_surface(y,X,W):\n",
    "    resolution=0.02\n",
    "    markers = ('s', 'x', 'o', '^', 'v')\n",
    "    # plot the decision surface\n",
    "    x1_min, x1_max = X[:, 1].min() - 1, X[:, 1].max() + 1\n",
    "    x2_min, x2_max = X[:, 2].min() - 1, X[:, 2].max() + 1\n",
    "    xx1, xx2 = np.meshgrid(np.arange(x1_min, x1_max, resolution),\n",
    "                            np.arange(x2_min, x2_max, resolution))\n",
    "    \n",
    "    Xg = np.array([xx1.ravel(), xx2.ravel()]).T\n",
    "    xg0 = np.ones((Xg.shape[0],1))\n",
    "    Xg = np.hstack((xg0,Xg))\n",
    "    Z = yHat_(Xg,W)\n",
    "    Z = Z.reshape(xx1.shape)\n",
    "    \n",
    "    # plot area\n",
    "    plt.contourf(xx1, xx2, Z, alpha=0.4,cmap='Set3')\n",
    "    plt.xlim(xx1.min(), xx1.max())\n",
    "    plt.ylim(xx2.min(), xx2.max())\n",
    "    \n",
    "    # plot class samples\n",
    "    for idx, cl in enumerate(np.unique(y)):\n",
    "        px = X[y == cl, 1]\n",
    "        py = X[y == cl, 2]\n",
    "        plt.scatter(px, py, \n",
    "                    alpha=0.8, cmap='Pastel1',\n",
    "                    edgecolor='black',\n",
    "                    marker=markers[idx], \n",
    "                    label=cl)\n",
    "    \n",
    "    plt.xlabel('sepal length [cm]')\n",
    "    plt.ylabel('petal length [cm]')\n",
    "    plt.legend(loc='upper left')\n",
    "    plt.tight_layout()\n",
    "    # plt.savefig('./perceptron_2.png', dpi=300)\n",
    "    plt.show()"
   ]
  },
  {
   "cell_type": "code",
   "execution_count": 3,
   "metadata": {},
   "outputs": [],
   "source": [
    "def z_(X,W):\n",
    "    n = W.shape[0]\n",
    "    X = X.reshape(-1,n)\n",
    "    return np.dot(X,W)"
   ]
  },
  {
   "cell_type": "code",
   "execution_count": 4,
   "metadata": {},
   "outputs": [],
   "source": [
    "def phi_(X,W):\n",
    "    z = z_(X,W)\n",
    "    return np.where(z>=0,1,-1)"
   ]
  },
  {
   "cell_type": "code",
   "execution_count": 5,
   "metadata": {},
   "outputs": [],
   "source": [
    "def yHat_(X,W):\n",
    "    return phi_(X,W)"
   ]
  },
  {
   "cell_type": "code",
   "execution_count": 6,
   "metadata": {},
   "outputs": [],
   "source": [
    "def sumErr_(y,X,W):\n",
    "    yh = yHat_(X,W)\n",
    "    err = np.abs(y-yh)\n",
    "    return err.sum()"
   ]
  },
  {
   "cell_type": "markdown",
   "metadata": {},
   "source": [
    "# Program start"
   ]
  },
  {
   "cell_type": "code",
   "execution_count": 7,
   "metadata": {},
   "outputs": [],
   "source": [
    "# Model parameters\n",
    "eta=0.1\n",
    "n_iter=10"
   ]
  },
  {
   "cell_type": "code",
   "execution_count": 8,
   "metadata": {},
   "outputs": [],
   "source": [
    "# Read data\n",
    "url = 'https://archive.ics.uci.edu/ml/machine-learning-databases/iris/iris.data'\n",
    "df = pd.read_csv(url, header=None)"
   ]
  },
  {
   "cell_type": "code",
   "execution_count": 9,
   "metadata": {},
   "outputs": [],
   "source": [
    "# Extract y values and perform feature extraction\n",
    "y = df.iloc[0:100, 4].values\n",
    "y = np.where(y == 'Iris-setosa', -1, 1)"
   ]
  },
  {
   "cell_type": "code",
   "execution_count": 10,
   "metadata": {},
   "outputs": [],
   "source": [
    "# Extract sepal length and petal length\n",
    "X = df.iloc[0:100,[0,2]].values"
   ]
  },
  {
   "cell_type": "code",
   "execution_count": 11,
   "metadata": {},
   "outputs": [],
   "source": [
    "# Append a columne of X0\n",
    "x0 = np.ones((X.shape[0],1))\n",
    "X = np.hstack((x0,X))"
   ]
  },
  {
   "cell_type": "code",
   "execution_count": 12,
   "metadata": {},
   "outputs": [],
   "source": [
    "# Initialize weight and bias\n",
    "W = np.zeros(3)"
   ]
  },
  {
   "cell_type": "code",
   "execution_count": 13,
   "metadata": {},
   "outputs": [
    {
     "name": "stdout",
     "output_type": "stream",
     "text": [
      "Epoch = 0 , sumErr =  100 , W =  [0.   0.38 0.66]\n",
      "Epoch = 1 , sumErr =  100 , W =  [0.   0.76 1.32]\n",
      "Epoch = 2 , sumErr =  100 , W =  [-0.2   0.22  1.68]\n",
      "Epoch = 3 , sumErr =  100 , W =  [-0.2   0.34  2.1 ]\n",
      "Epoch = 4 , sumErr =  0 , W =  [-0.4  -0.68  1.82]\n",
      "Epoch = 5 , sumErr =  0 , W =  [-0.4  -0.68  1.82]\n",
      "Epoch = 6 , sumErr =  0 , W =  [-0.4  -0.68  1.82]\n",
      "Epoch = 7 , sumErr =  0 , W =  [-0.4  -0.68  1.82]\n",
      "Epoch = 8 , sumErr =  0 , W =  [-0.4  -0.68  1.82]\n",
      "Epoch = 9 , sumErr =  0 , W =  [-0.4  -0.68  1.82]\n"
     ]
    }
   ],
   "source": [
    "for n in range(n_iter):\n",
    "    for i in range(y.shape[0]):\n",
    "        yi = y[i]\n",
    "        Xi = X[i,:]\n",
    "        yHat = yHat_(Xi,W)\n",
    "        dy = yi - yHat\n",
    "        deltaW0 = eta * dy\n",
    "        deltaW = eta * dy * Xi[1:]\n",
    "        W[0] = W[0] + deltaW0\n",
    "        W[1:] = W[1:] + deltaW\n",
    "    sumErr = sumErr_(y,X,W)\n",
    "    print('Epoch =',n, ', sumErr = ', sumErr,', W = ', W)"
   ]
  },
  {
   "cell_type": "code",
   "execution_count": 14,
   "metadata": {},
   "outputs": [
    {
     "data": {
      "image/png": "[encoded data removed]",
      "text/plain": [
       "<Figure size 432x288 with 1 Axes>"
      ]
     },
     "metadata": {
      "needs_background": "light"
     },
     "output_type": "display_data"
    }
   ],
   "source": [
    "plot_decision_surface(y,X,W)"
   ]
  }
 ],
 "metadata": {
  "kernelspec": {
   "display_name": "Python 3",
   "language": "python",
   "name": "python3"
  },
  "language_info": {
   "codemirror_mode": {
    "name": "ipython",
    "version": 3
   },
   "file_extension": ".py",
   "mimetype": "text/x-python",
   "name": "python",
   "nbconvert_exporter": "python",
   "pygments_lexer": "ipython3",
   "version": "3.8.3"
  }
 },
 "nbformat": 4,
 "nbformat_minor": 4
}
