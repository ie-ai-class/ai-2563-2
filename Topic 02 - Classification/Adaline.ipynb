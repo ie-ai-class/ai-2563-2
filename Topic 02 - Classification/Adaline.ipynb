{
 "cells": [
  {
   "cell_type": "code",
   "execution_count": 1,
   "metadata": {},
   "outputs": [
    {
     "data": {
      "text/html": [
       "<div>\n",
       "<style scoped>\n",
       "    .dataframe tbody tr th:only-of-type {\n",
       "        vertical-align: middle;\n",
       "    }\n",
       "\n",
       "    .dataframe tbody tr th {\n",
       "        vertical-align: top;\n",
       "    }\n",
       "\n",
       "    .dataframe thead th {\n",
       "        text-align: right;\n",
       "    }\n",
       "</style>\n",
       "<table border=\"1\" class=\"dataframe\">\n",
       "  <thead>\n",
       "    <tr style=\"text-align: right;\">\n",
       "      <th></th>\n",
       "      <th>0</th>\n",
       "      <th>1</th>\n",
       "      <th>2</th>\n",
       "      <th>3</th>\n",
       "      <th>4</th>\n",
       "    </tr>\n",
       "  </thead>\n",
       "  <tbody>\n",
       "    <tr>\n",
       "      <th>145</th>\n",
       "      <td>6.7</td>\n",
       "      <td>3.0</td>\n",
       "      <td>5.2</td>\n",
       "      <td>2.3</td>\n",
       "      <td>Iris-virginica</td>\n",
       "    </tr>\n",
       "    <tr>\n",
       "      <th>146</th>\n",
       "      <td>6.3</td>\n",
       "      <td>2.5</td>\n",
       "      <td>5.0</td>\n",
       "      <td>1.9</td>\n",
       "      <td>Iris-virginica</td>\n",
       "    </tr>\n",
       "    <tr>\n",
       "      <th>147</th>\n",
       "      <td>6.5</td>\n",
       "      <td>3.0</td>\n",
       "      <td>5.2</td>\n",
       "      <td>2.0</td>\n",
       "      <td>Iris-virginica</td>\n",
       "    </tr>\n",
       "    <tr>\n",
       "      <th>148</th>\n",
       "      <td>6.2</td>\n",
       "      <td>3.4</td>\n",
       "      <td>5.4</td>\n",
       "      <td>2.3</td>\n",
       "      <td>Iris-virginica</td>\n",
       "    </tr>\n",
       "    <tr>\n",
       "      <th>149</th>\n",
       "      <td>5.9</td>\n",
       "      <td>3.0</td>\n",
       "      <td>5.1</td>\n",
       "      <td>1.8</td>\n",
       "      <td>Iris-virginica</td>\n",
       "    </tr>\n",
       "  </tbody>\n",
       "</table>\n",
       "</div>"
      ],
      "text/plain": [
       "       0    1    2    3               4\n",
       "145  6.7  3.0  5.2  2.3  Iris-virginica\n",
       "146  6.3  2.5  5.0  1.9  Iris-virginica\n",
       "147  6.5  3.0  5.2  2.0  Iris-virginica\n",
       "148  6.2  3.4  5.4  2.3  Iris-virginica\n",
       "149  5.9  3.0  5.1  1.8  Iris-virginica"
      ]
     },
     "execution_count": 1,
     "metadata": {},
     "output_type": "execute_result"
    }
   ],
   "source": [
    "import numpy as np\n",
    "import pandas as pd\n",
    "import matplotlib.pyplot as plt\n",
    "\n",
    "df = pd.read_csv('https://archive.ics.uci.edu/ml/'\n",
    "        'machine-learning-databases/iris/iris.data', header=None)\n",
    "df.tail()"
   ]
  },
  {
   "cell_type": "code",
   "execution_count": 2,
   "metadata": {},
   "outputs": [],
   "source": [
    "# select setosa and versicolor\n",
    "y = df.iloc[0:100, 4].values\n",
    "#print(y)"
   ]
  },
  {
   "cell_type": "code",
   "execution_count": 3,
   "metadata": {},
   "outputs": [],
   "source": [
    "y = np.where(y == 'Iris-setosa', -1, 1)"
   ]
  },
  {
   "cell_type": "code",
   "execution_count": 4,
   "metadata": {},
   "outputs": [],
   "source": [
    "# extract sepal length and petal length\n",
    "X = df.iloc[0:100,[0,2]].values\n",
    "#print(x)"
   ]
  },
  {
   "cell_type": "code",
   "execution_count": 5,
   "metadata": {},
   "outputs": [],
   "source": [
    "def phiFunc(z):\n",
    "    return z"
   ]
  },
  {
   "cell_type": "code",
   "execution_count": 6,
   "metadata": {},
   "outputs": [],
   "source": [
    "def predict(Xi,W,w0):\n",
    "    z = np.dot(W,Xi) + w0\n",
    "    yHat = phiFunc(z)\n",
    "    return yHat"
   ]
  },
  {
   "cell_type": "code",
   "execution_count": 7,
   "metadata": {},
   "outputs": [],
   "source": [
    "def calcError(y,X,W,w0):\n",
    "    sumError = 0 \n",
    "    for i in range(y.shape[0]):\n",
    "        yi = y[i]\n",
    "        Xi = X[i,:]\n",
    "        yHat = predict(Xi,W,w0)\n",
    "        error = yi - yHat\n",
    "        sumError += np.power(error,2)\n",
    "    return sumError/2"
   ]
  },
  {
   "cell_type": "code",
   "execution_count": 8,
   "metadata": {},
   "outputs": [
    {
     "name": "stdout",
     "output_type": "stream",
     "text": [
      "[48.06916269]\n",
      "[46.75624785]\n",
      "[45.67588153]\n",
      "[44.69132935]\n",
      "[43.75388836]\n",
      "[42.84602749]\n",
      "[41.96125761]\n",
      "[41.09700496]\n",
      "[40.25208795]\n",
      "[39.42582377]\n",
      "[[-0.02122706  0.09641832]] [-0.01174401]\n"
     ]
    }
   ],
   "source": [
    "eta=0.0001\n",
    "n_iter=10\n",
    "W = np.zeros((1,2))\n",
    "w0 = 0\n",
    "for n in range(n_iter):\n",
    "    deltaW = 0\n",
    "    deltaW0 = 0\n",
    "    for i in range(y.shape[0]):\n",
    "        yi = y[i]\n",
    "        Xi = X[i,:]\n",
    "        yHat = predict(Xi,W,w0)\n",
    "        yi_m_yHat = yi - yHat\n",
    "        deltaW0 = deltaW0 + eta * yi_m_yHat\n",
    "        deltaW =  deltaW  + eta * yi_m_yHat * Xi\n",
    "    W = W + deltaW\n",
    "    w0 = w0 + deltaW0\n",
    "    sumError = calcError(y,X,W,w0)\n",
    "    print(sumError)\n",
    "print(W,w0)"
   ]
  },
  {
   "cell_type": "code",
   "execution_count": 9,
   "metadata": {},
   "outputs": [],
   "source": [
    "X_std = np.copy(X)\n",
    "X_std[:, 0] = (X[:, 0] - X[:, 0].mean()) / X[:, 0].std()\n",
    "X_std[:, 1] = (X[:, 1] - X[:, 1].mean()) / X[:, 1].std()"
   ]
  },
  {
   "cell_type": "code",
   "execution_count": 12,
   "metadata": {},
   "outputs": [
    {
     "name": "stdout",
     "output_type": "stream",
     "text": [
      "[33.82690622]\n",
      "[23.15304865]\n",
      "[16.10855631]\n",
      "[11.45935877]\n",
      "[8.39099887]\n",
      "[6.36595425]\n",
      "[5.02947293]\n",
      "[4.14742701]\n",
      "[3.56529767]\n",
      "[3.18110614]\n",
      "[2.92754886]\n",
      "[2.76020708]\n",
      "[2.64976548]\n",
      "[2.57687665]\n",
      "[2.52877175]\n",
      "[[-0.12625616  1.10479201]] [1.8710619e-16]\n"
     ]
    }
   ],
   "source": [
    "eta=0.01\n",
    "n_iter=15\n",
    "W = np.zeros((1,2))\n",
    "w0 = 0\n",
    "for n in range(n_iter):\n",
    "    deltaW = 0\n",
    "    deltaW0 = 0\n",
    "    for i in range(y.shape[0]):\n",
    "        yi = y[i]\n",
    "        Xi = X_std[i,:]\n",
    "        yHat = predict(Xi,W,w0)\n",
    "        yi_m_yHat = yi - yHat\n",
    "        deltaW0 = deltaW0 + eta * yi_m_yHat\n",
    "        deltaW =  deltaW  + eta * yi_m_yHat * Xi\n",
    "    W = W + deltaW\n",
    "    w0 = w0 + deltaW0\n",
    "    sumError = calcError(y,X_std,W,w0)\n",
    "    print(sumError)\n",
    "print(W,w0)"
   ]
  },
  {
   "cell_type": "code",
   "execution_count": 11,
   "metadata": {},
   "outputs": [
    {
     "name": "stderr",
     "output_type": "stream",
     "text": [
      "*c* argument looks like a single numeric RGB or RGBA sequence, which should be avoided as value-mapping will have precedence in case its length matches with *x* & *y*.  Please use the *color* keyword-argument or provide a 2-D array with a single row if you intend to specify the same RGB or RGBA value for all points.\n",
      "*c* argument looks like a single numeric RGB or RGBA sequence, which should be avoided as value-mapping will have precedence in case its length matches with *x* & *y*.  Please use the *color* keyword-argument or provide a 2-D array with a single row if you intend to specify the same RGB or RGBA value for all points.\n"
     ]
    },
    {
     "data": {
      "image/png": "[encoded data removed]",
      "text/plain": [
       "<Figure size 432x288 with 1 Axes>"
      ]
     },
     "metadata": {
      "needs_background": "light"
     },
     "output_type": "display_data"
    }
   ],
   "source": [
    "from matplotlib.colors import ListedColormap\n",
    "resolution=0.02\n",
    "\n",
    "# setup marker generator and color map\n",
    "markers = ('s', 'x', 'o', '^', 'v')\n",
    "colors = ('red', 'blue', 'lightgreen', 'gray', 'cyan')\n",
    "cmap = ListedColormap(colors[:len(np.unique(y))])\n",
    "\n",
    "\n",
    "# plot the decision surface\n",
    "x1_min, x1_max = X_std[:, 0].min() - 1, X_std[:, 0].max() + 1\n",
    "x2_min, x2_max = X_std[:, 1].min() - 1, X_std[:, 1].max() + 1\n",
    "xx1, xx2 = np.meshgrid(np.arange(x1_min, x1_max, resolution),\n",
    "                       np.arange(x2_min, x2_max, resolution))\n",
    "\n",
    "XiArray = np.array([xx1.ravel(), xx2.ravel()]).T\n",
    "Z = np.array([])\n",
    "for Xi in XiArray:\n",
    "    yHat = predict(Xi,W,w0)\n",
    "    Z = np.append(Z,yHat)\n",
    "\n",
    "Z = Z.reshape(xx1.shape)\n",
    "plt.contourf(xx1, xx2, Z, alpha=0.4, cmap=cmap)\n",
    "plt.xlim(xx1.min(), xx1.max())\n",
    "plt.ylim(xx2.min(), xx2.max())\n",
    "\n",
    "# plot class samples\n",
    "for idx, cl in enumerate(np.unique(y)):\n",
    "    plt.scatter(x=X_std[y == cl, 0], y=X_std[y == cl, 1],\n",
    "                alpha=0.8, c=cmap(idx),\n",
    "                edgecolor='black',\n",
    "                marker=markers[idx], \n",
    "                label=cl)\n",
    "\n",
    "plt.xlabel('sepal length [cm]')\n",
    "plt.ylabel('petal length [cm]')\n",
    "plt.legend(loc='upper left')\n",
    "\n",
    "plt.tight_layout()\n",
    "# plt.savefig('./perceptron_2.png', dpi=300)\n",
    "plt.show()"
   ]
  },
  {
   "cell_type": "code",
   "execution_count": null,
   "metadata": {},
   "outputs": [],
   "source": []
  }
 ],
 "metadata": {
  "kernelspec": {
   "display_name": "Python 3",
   "language": "python",
   "name": "python3"
  },
  "language_info": {
   "codemirror_mode": {
    "name": "ipython",
    "version": 3
   },
   "file_extension": ".py",
   "mimetype": "text/x-python",
   "name": "python",
   "nbconvert_exporter": "python",
   "pygments_lexer": "ipython3",
   "version": "3.8.3"
  }
 },
 "nbformat": 4,
 "nbformat_minor": 4
}
