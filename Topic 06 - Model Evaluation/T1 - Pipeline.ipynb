{
 "cells": [
  {
   "cell_type": "markdown",
   "metadata": {},
   "source": [
    "# Pipelines\n"
   ]
  },
  {
   "cell_type": "markdown",
   "metadata": {},
   "source": [
    "## Setting up"
   ]
  },
  {
   "cell_type": "code",
   "execution_count": null,
   "metadata": {},
   "outputs": [],
   "source": [
    "import pandas as pd\n",
    "import numpy as np\n",
    "\n",
    "#Loading the Breast Cancer Wisconsin dataset\n",
    "from sklearn.datasets import load_breast_cancer\n",
    "\n",
    "# Load data\n",
    "dataObj = load_breast_cancer()\n",
    "X = dataObj.data\n",
    "y = dataObj.target\n",
    "\n",
    "# Create DataFrame with features\n",
    "df = pd.DataFrame(X)\n",
    "df.columns = dataObj.feature_names\n",
    "\n",
    "# Add class column\n",
    "df.insert(loc=0, column=\"Class\", value=y)\n",
    "\n",
    "# Explore data\n",
    "display(df.head())\n",
    "print(df.shape)\n",
    "display(df.describe())\n",
    "print(df['Class'].value_counts())"
   ]
  },
  {
   "cell_type": "code",
   "execution_count": null,
   "metadata": {},
   "outputs": [],
   "source": [
    "from sklearn.model_selection import train_test_split\n",
    "\n",
    "# Splitting data\n",
    "X_train, X_test, y_train, y_test = train_test_split(X, y,\n",
    "    test_size=0.20,\n",
    "    stratify=y,\n",
    "    random_state=1)"
   ]
  },
  {
   "cell_type": "markdown",
   "metadata": {},
   "source": [
    "## Method 1: Without using a pipeline"
   ]
  },
  {
   "cell_type": "code",
   "execution_count": null,
   "metadata": {},
   "outputs": [],
   "source": [
    "from sklearn.preprocessing import StandardScaler\n",
    "from sklearn.decomposition import PCA\n",
    "from sklearn.linear_model import LogisticRegression\n",
    "\n",
    "# Standardize\n",
    "sc = StandardScaler()\n",
    "X_train_std = sc.fit_transform(X_train)\n",
    "X_test_std = sc.transform(X_test)\n",
    "\n",
    "# PCA\n",
    "pca = PCA(n_components=2)\n",
    "X_train_pca = pca.fit_transform(X_train_std)\n",
    "X_test_pca = pca.transform(X_test_std)\n",
    "\n",
    "# Logistic Regression\n",
    "lr = LogisticRegression(random_state=1)\n",
    "lr.fit(X_train_pca, y_train)\n",
    "\n",
    "# Making prediction from trianing data\n",
    "y_pred = lr.predict(X_train_pca)\n",
    "print(y_pred)\n",
    "\n",
    "# Making prediction from testing data\n",
    "y_pred = lr.predict(X_test_pca)\n",
    "print(y_pred)\n",
    "\n",
    "# Training accuracy\n",
    "training_accuracy = lr.score(X_train_pca, y_train)\n",
    "print(f\"Training Accuracy:{training_accuracy:6.3f}\")\n",
    "\n",
    "# Testing accuracy\n",
    "testing_accuracy = lr.score(X_test_pca, y_test)\n",
    "print(f\"Testing Accuracy:{testing_accuracy:6.3f}\")"
   ]
  },
  {
   "cell_type": "markdown",
   "metadata": {},
   "source": [
    "## Method 2: Using a pipeline\n"
   ]
  },
  {
   "cell_type": "code",
   "execution_count": null,
   "metadata": {},
   "outputs": [],
   "source": [
    "from sklearn.preprocessing import StandardScaler\n",
    "from sklearn.decomposition import PCA\n",
    "from sklearn.linear_model import LogisticRegression\n",
    "from sklearn.pipeline import Pipeline\n",
    "\n",
    "# Construct pipeline object\n",
    "pipe_lr = Pipeline([('scl', StandardScaler()),\n",
    "                    ('pca', PCA(n_components=2)),\n",
    "                    ('clf', LogisticRegression(random_state=1))])\n",
    "\n",
    "# Training\n",
    "pipe_lr.fit(X_train, y_train)\n",
    "\n",
    "# Making prediction from testing data\n",
    "y_pred = pipe_lr.predict(X_test)\n",
    "print(y_pred)\n",
    "\n",
    "# Training accuracy\n",
    "training_accuracy = pipe_lr.score(X_train, y_train)\n",
    "print(f\"Training Accuracy:{training_accuracy:6.3f}\")\n",
    "\n",
    "# Testing accuracy\n",
    "testing_accuracy = pipe_lr.score(X_test, y_test)\n",
    "print(f\"Testing Accuracy:{testing_accuracy:6.3f}\")"
   ]
  },
  {
   "cell_type": "code",
   "execution_count": null,
   "metadata": {},
   "outputs": [],
   "source": [
    "# Get parameter names\n",
    "for k, v in pipe_lr.get_params().items():\n",
    "    print(f\"{k:25.25s}: {str(v)}\")"
   ]
  }
 ],
 "metadata": {
  "kernelspec": {
   "display_name": "Python 3",
   "language": "python",
   "name": "python3"
  },
  "language_info": {
   "codemirror_mode": {
    "name": "ipython",
    "version": 3
   },
   "file_extension": ".py",
   "mimetype": "text/x-python",
   "name": "python",
   "nbconvert_exporter": "python",
   "pygments_lexer": "ipython3",
   "version": "3.7.9-final"
  }
 },
 "nbformat": 4,
 "nbformat_minor": 2
}