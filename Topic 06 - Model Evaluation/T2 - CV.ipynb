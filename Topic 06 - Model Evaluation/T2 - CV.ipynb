{
 "cells": [
  {
   "cell_type": "markdown",
   "metadata": {},
   "source": [
    "# K-fold cross-validation\n"
   ]
  },
  {
   "cell_type": "markdown",
   "metadata": {},
   "source": [
    "## Setting up"
   ]
  },
  {
   "cell_type": "code",
   "execution_count": null,
   "metadata": {},
   "outputs": [],
   "source": [
    "import pandas as pd\n",
    "import numpy as np\n",
    "from sklearn.model_selection import train_test_split\n",
    "from sklearn.preprocessing import StandardScaler\n",
    "from sklearn.decomposition import PCA\n",
    "from sklearn.linear_model import LogisticRegression\n",
    "from sklearn.pipeline import Pipeline\n",
    "\n",
    "# Breast cancer data\n",
    "from sklearn.datasets import load_breast_cancer\n",
    "\n",
    "# Load data\n",
    "dataObj = load_breast_cancer()\n",
    "X = dataObj.data\n",
    "y = dataObj.target\n",
    "\n",
    "# Splitting data\n",
    "X_train, X_test, y_train, y_test = train_test_split(X, y,\n",
    "    test_size=0.20,\n",
    "    stratify=y,\n",
    "    random_state=1)\n",
    "\n",
    "# Constructing a pipeline object\n",
    "pipe_lr = Pipeline([('scl', StandardScaler()),\n",
    "                    ('pca', PCA(n_components=2)),\n",
    "                    ('clf', LogisticRegression(random_state=1))])"
   ]
  },
  {
   "cell_type": "markdown",
   "metadata": {},
   "source": [
    "## K-Fold cross-validation"
   ]
  },
  {
   "cell_type": "code",
   "execution_count": null,
   "metadata": {},
   "outputs": [],
   "source": [
    "from sklearn.model_selection import KFold\n",
    "kf = KFold(n_splits=10, random_state=1)\n",
    "print(kf)"
   ]
  },
  {
   "cell_type": "code",
   "execution_count": null,
   "metadata": {},
   "outputs": [],
   "source": [
    "genSplit = kf.split(X_train,y_train)\n",
    "print(genSplit)"
   ]
  },
  {
   "cell_type": "code",
   "execution_count": null,
   "metadata": {},
   "outputs": [],
   "source": [
    "#Note that generator needs to be created since it is exhausted after used.\n",
    "genSplit = kf.split(X_train,y_train)\n",
    "\n",
    "for idxTrain, idxVal in genSplit:\n",
    "    print(idxTrain[0:10],\"...\", idxVal[0:10], \"...\") "
   ]
  },
  {
   "cell_type": "code",
   "execution_count": null,
   "metadata": {},
   "outputs": [],
   "source": [
    "genSplit = kf.split(X_train,y_train)\n",
    "\n",
    "for idxTrain, idxVal in genSplit:\n",
    "    print(idxTrain.shape, idxVal.shape, np.bincount(y_train[idxTrain])) "
   ]
  },
  {
   "cell_type": "code",
   "execution_count": null,
   "metadata": {},
   "outputs": [],
   "source": [
    "genSplit = kf.split(X_train,y_train)\n",
    "\n",
    "trainScores = []\n",
    "valScores = []\n",
    "for count, (idxTrain, idxVal) in enumerate(genSplit):\n",
    "    # Training\n",
    "    pipe_lr.fit(X_train[idxTrain], y_train[idxTrain])\n",
    "    # Traning score\n",
    "    trainScore = pipe_lr.score(X_train[idxTrain], y_train[idxTrain])\n",
    "    trainScores.append(trainScore)\n",
    "    # Validation score\n",
    "    valScore = pipe_lr.score(X_train[idxVal], y_train[idxVal])\n",
    "    valScores.append(valScore)\n",
    "    # Printing\n",
    "    print(f\"Fold:{count+1:2d}, Training accuracy:{trainScore:6.3f}, Validation accuracy:{valScore:6.3f}\")\n",
    "\n",
    "print(\"\\nTraining accuracy\")  \n",
    "print(f\"Mean:{np.mean(trainScores):6.3f}\")\n",
    "print(f\"Std:{np.std(trainScores):6.3f}\")\n",
    "\n",
    "print(\"\\nCrossed-validation accuracy\")  \n",
    "print(f\"Mean:{np.mean(valScores):6.3f}\")\n",
    "print(f\"Std:{np.std(valScores):6.3f}\")"
   ]
  },
  {
   "cell_type": "markdown",
   "metadata": {},
   "source": [
    "## Stratified K-Folds cross-validation"
   ]
  },
  {
   "cell_type": "code",
   "execution_count": null,
   "metadata": {},
   "outputs": [],
   "source": [
    "from sklearn.model_selection import StratifiedKFold\n",
    "skf = StratifiedKFold(n_splits=10, random_state=1)\n",
    "print(skf)"
   ]
  },
  {
   "cell_type": "code",
   "execution_count": null,
   "metadata": {},
   "outputs": [],
   "source": [
    "genSplit = skf.split(X_train,y_train)\n",
    "\n",
    "for idxTrain, idxVal in genSplit:\n",
    "    print(idxTrain.shape, idxVal.shape, np.bincount(y_train[idxTrain])) "
   ]
  },
  {
   "cell_type": "code",
   "execution_count": null,
   "metadata": {},
   "outputs": [],
   "source": [
    "genSplit = skf.split(X_train,y_train)\n",
    "\n",
    "trainScores = []\n",
    "valScores = []\n",
    "for count, (idxTrain, idxVal) in enumerate(genSplit):\n",
    "    # Training\n",
    "    pipe_lr.fit(X_train[idxTrain], y_train[idxTrain])\n",
    "    # Traning score\n",
    "    trainScore = pipe_lr.score(X_train[idxTrain], y_train[idxTrain])\n",
    "    trainScores.append(trainScore)\n",
    "    # Validation score\n",
    "    valScore = pipe_lr.score(X_train[idxVal], y_train[idxVal])\n",
    "    valScores.append(valScore)\n",
    "    # Printing\n",
    "    print(f\"Fold:{count+1:2d}, Training accuracy:{trainScore:6.3f}, Validation accuracy:{valScore:6.3f}\")\n",
    "\n",
    "print(\"\\nTraining accuracy\")  \n",
    "print(f\"Mean:{np.mean(trainScores):6.3f}\")\n",
    "print(f\"Std:{np.std(trainScores):6.3f}\")\n",
    "\n",
    "print(\"\\nCrossed-validation accuracy\")  \n",
    "print(f\"Mean:{np.mean(valScores):6.3f}\")\n",
    "print(f\"Std:{np.std(valScores):6.3f}\")"
   ]
  },
  {
   "cell_type": "markdown",
   "metadata": {},
   "source": [
    "## Stratified k-fold cross-validation (SKL)"
   ]
  },
  {
   "cell_type": "code",
   "execution_count": null,
   "metadata": {},
   "outputs": [],
   "source": [
    "from sklearn.model_selection import cross_val_score\n",
    "scores = cross_val_score(estimator=pipe_lr,\n",
    "                         X=X_train,\n",
    "                         y=y_train,\n",
    "                         cv=10,\n",
    "                         n_jobs=1)\n",
    "\n",
    "print(\"\\nCrossed-validation accuracy\")  \n",
    "print(f\"Mean:{np.mean(scores):6.3f}\")\n",
    "print(f\"Std:{np.std(scores):6.3f}\")"
   ]
  }
 ],
 "metadata": {
  "kernelspec": {
   "display_name": "Python 3",
   "language": "python",
   "name": "python3"
  },
  "language_info": {
   "codemirror_mode": {
    "name": "ipython",
    "version": 3
   },
   "file_extension": ".py",
   "mimetype": "text/x-python",
   "name": "python",
   "nbconvert_exporter": "python",
   "pygments_lexer": "ipython3",
   "version": "3.7.9"
  }
 },
 "nbformat": 4,
 "nbformat_minor": 2
}
